{
  "nbformat": 4,
  "nbformat_minor": 0,
  "metadata": {
    "colab": {
      "provenance": []
    },
    "kernelspec": {
      "name": "python3",
      "display_name": "Python 3"
    },
    "language_info": {
      "name": "python"
    }
  },
  "cells": [
    {
      "cell_type": "code",
      "source": [
        "!pip install -q openai"
      ],
      "metadata": {
        "id": "8PWW-_nWxN7A"
      },
      "execution_count": null,
      "outputs": []
    },
    {
      "cell_type": "code",
      "source": [
        "import openai\n",
        "import asyncio\n",
        "from openai import OpenAI\n",
        "from openai import AsyncOpenAI"
      ],
      "metadata": {
        "id": "rO64P52UxaVZ"
      },
      "execution_count": null,
      "outputs": []
    },
    {
      "cell_type": "code",
      "source": [
        "openai.__version__"
      ],
      "metadata": {
        "id": "xozSA3grxbm4"
      },
      "execution_count": null,
      "outputs": []
    },
    {
      "cell_type": "code",
      "source": [
        "def generate_response_v1(client, prompt, input_sentence):\n",
        "        messages = [\n",
        "            {\"role\": \"system\", \"content\": prompt},\n",
        "            {\"role\": \"user\", \"content\": input_sentence}\n",
        "        ]\n",
        "\n",
        "        response = client.chat.completions.create(\n",
        "            model=\"gpt-4o\",\n",
        "            messages=messages\n",
        "        )\n",
        "\n",
        "        return response.choices[0].message.content"
      ],
      "metadata": {
        "id": "ImJOfut-FQye"
      },
      "execution_count": null,
      "outputs": []
    },
    {
      "cell_type": "code",
      "source": [
        "async def generate_response_v2(client, prompt, input_sentence):\n",
        "    messages = [\n",
        "        {\"role\": \"system\", \"content\": prompt},\n",
        "        {\"role\": \"user\", \"content\": input_sentence}\n",
        "    ]\n",
        "\n",
        "    response = await client.chat.completions.create(\n",
        "        model=\"gpt-4\",\n",
        "        messages=messages\n",
        "    )\n",
        "    print(response.usage.total_tokens)\n",
        "    print(response.choices[0].message.content)\n",
        "    return response.choices[0].message.content"
      ],
      "metadata": {
        "id": "6OQQ7YXSFRTE"
      },
      "execution_count": null,
      "outputs": []
    },
    {
      "cell_type": "code",
      "source": [
        "prompt_1 = \"\"\"\n",
        "\"\"\""
      ],
      "metadata": {
        "id": "bHA-EsmpHF19"
      },
      "execution_count": null,
      "outputs": []
    },
    {
      "cell_type": "code",
      "source": [
        "client = OpenAI(\n",
        "    api_key= \"sk-...\"\n",
        ")"
      ],
      "metadata": {
        "id": "CC2JfeRJxz9P"
      },
      "execution_count": null,
      "outputs": []
    },
    {
      "cell_type": "code",
      "source": [
        "%%time\n",
        "generate_response_v1(client, prompt_1, \"I enjoy mountains\")"
      ],
      "metadata": {
        "id": "IWakA9yxx4ZR"
      },
      "execution_count": null,
      "outputs": []
    },
    {
      "cell_type": "code",
      "source": [],
      "metadata": {
        "id": "NYiTgmF9yGNg"
      },
      "execution_count": null,
      "outputs": []
    },
    {
      "cell_type": "code",
      "source": [
        "async_client = AsyncOpenAI(\n",
        "    api_key = \"sk-...\"\n",
        ")"
      ],
      "metadata": {
        "id": "drrpZolAyGP9"
      },
      "execution_count": null,
      "outputs": []
    },
    {
      "cell_type": "code",
      "source": [
        "async def run_main():\n",
        "    await generate_response_v2(async_client, prompt_1, \"I enjoy beaches\")"
      ],
      "metadata": {
        "id": "vw6L_f6cz6Cy"
      },
      "execution_count": null,
      "outputs": []
    },
    {
      "cell_type": "code",
      "source": [
        "%time\n",
        "await run_main()"
      ],
      "metadata": {
        "id": "npBqmgtVz87C"
      },
      "execution_count": null,
      "outputs": []
    },
    {
      "cell_type": "code",
      "source": [],
      "metadata": {
        "id": "heQEkUpTyd91"
      },
      "execution_count": null,
      "outputs": []
    },
    {
      "cell_type": "code",
      "source": [],
      "metadata": {
        "id": "TeUlqZ_32unM"
      },
      "execution_count": null,
      "outputs": []
    }
  ]
}